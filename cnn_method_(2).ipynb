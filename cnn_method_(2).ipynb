{
  "cells": [
    {
      "cell_type": "raw",
      "metadata": {
        "id": "VqK-mfTdFijv"
      },
      "source": []
    },
    {
      "cell_type": "code",
      "execution_count": null,
      "metadata": {
        "collapsed": true,
        "id": "ua7EkHtxFijw",
        "colab": {
          "base_uri": "https://localhost:8080/"
        },
        "outputId": "5298a824-a914-485c-96a1-4b85264c1465"
      },
      "outputs": [
        {
          "output_type": "stream",
          "name": "stdout",
          "text": [
            "Collecting optuna\n",
            "  Downloading optuna-4.3.0-py3-none-any.whl.metadata (17 kB)\n",
            "Collecting alembic>=1.5.0 (from optuna)\n",
            "  Downloading alembic-1.16.1-py3-none-any.whl.metadata (7.3 kB)\n",
            "Collecting colorlog (from optuna)\n",
            "  Downloading colorlog-6.9.0-py3-none-any.whl.metadata (10 kB)\n",
            "Requirement already satisfied: numpy in /usr/local/lib/python3.11/dist-packages (from optuna) (2.0.2)\n",
            "Requirement already satisfied: packaging>=20.0 in /usr/local/lib/python3.11/dist-packages (from optuna) (24.2)\n",
            "Requirement already satisfied: sqlalchemy>=1.4.2 in /usr/local/lib/python3.11/dist-packages (from optuna) (2.0.41)\n",
            "Requirement already satisfied: tqdm in /usr/local/lib/python3.11/dist-packages (from optuna) (4.67.1)\n",
            "Requirement already satisfied: PyYAML in /usr/local/lib/python3.11/dist-packages (from optuna) (6.0.2)\n",
            "Requirement already satisfied: Mako in /usr/lib/python3/dist-packages (from alembic>=1.5.0->optuna) (1.1.3)\n",
            "Requirement already satisfied: typing-extensions>=4.12 in /usr/local/lib/python3.11/dist-packages (from alembic>=1.5.0->optuna) (4.14.0)\n",
            "Requirement already satisfied: greenlet>=1 in /usr/local/lib/python3.11/dist-packages (from sqlalchemy>=1.4.2->optuna) (3.2.2)\n",
            "Downloading optuna-4.3.0-py3-none-any.whl (386 kB)\n",
            "\u001b[2K   \u001b[90m━━━━━━━━━━━━━━━━━━━━━━━━━━━━━━━━━━━━━━━━\u001b[0m \u001b[32m386.6/386.6 kB\u001b[0m \u001b[31m6.4 MB/s\u001b[0m eta \u001b[36m0:00:00\u001b[0m\n",
            "\u001b[?25hDownloading alembic-1.16.1-py3-none-any.whl (242 kB)\n",
            "\u001b[2K   \u001b[90m━━━━━━━━━━━━━━━━━━━━━━━━━━━━━━━━━━━━━━━━\u001b[0m \u001b[32m242.5/242.5 kB\u001b[0m \u001b[31m14.4 MB/s\u001b[0m eta \u001b[36m0:00:00\u001b[0m\n",
            "\u001b[?25hDownloading colorlog-6.9.0-py3-none-any.whl (11 kB)\n",
            "Installing collected packages: colorlog, alembic, optuna\n",
            "Successfully installed alembic-1.16.1 colorlog-6.9.0 optuna-4.3.0\n",
            "Collecting grpcio==1.70.0\n",
            "  Downloading grpcio-1.70.0-cp311-cp311-manylinux_2_17_x86_64.manylinux2014_x86_64.whl.metadata (3.9 kB)\n",
            "Downloading grpcio-1.70.0-cp311-cp311-manylinux_2_17_x86_64.manylinux2014_x86_64.whl (5.9 MB)\n",
            "\u001b[2K   \u001b[90m━━━━━━━━━━━━━━━━━━━━━━━━━━━━━━━━━━━━━━━━\u001b[0m \u001b[32m5.9/5.9 MB\u001b[0m \u001b[31m21.5 MB/s\u001b[0m eta \u001b[36m0:00:00\u001b[0m\n",
            "\u001b[?25hInstalling collected packages: grpcio\n",
            "  Attempting uninstall: grpcio\n",
            "    Found existing installation: grpcio 1.72.1\n",
            "    Uninstalling grpcio-1.72.1:\n",
            "      Successfully uninstalled grpcio-1.72.1\n",
            "\u001b[31mERROR: pip's dependency resolver does not currently take into account all the packages that are installed. This behaviour is the source of the following dependency conflicts.\n",
            "grpcio-status 1.71.0 requires grpcio>=1.71.0, but you have grpcio 1.70.0 which is incompatible.\u001b[0m\u001b[31m\n",
            "\u001b[0mSuccessfully installed grpcio-1.70.0\n",
            "Requirement already satisfied: datasets in /usr/local/lib/python3.11/dist-packages (2.14.4)\n",
            "Requirement already satisfied: numpy>=1.17 in /usr/local/lib/python3.11/dist-packages (from datasets) (2.0.2)\n",
            "Requirement already satisfied: pyarrow>=8.0.0 in /usr/local/lib/python3.11/dist-packages (from datasets) (18.1.0)\n",
            "Requirement already satisfied: dill<0.3.8,>=0.3.0 in /usr/local/lib/python3.11/dist-packages (from datasets) (0.3.7)\n",
            "Requirement already satisfied: pandas in /usr/local/lib/python3.11/dist-packages (from datasets) (2.2.2)\n",
            "Requirement already satisfied: requests>=2.19.0 in /usr/local/lib/python3.11/dist-packages (from datasets) (2.32.3)\n",
            "Requirement already satisfied: tqdm>=4.62.1 in /usr/local/lib/python3.11/dist-packages (from datasets) (4.67.1)\n",
            "Requirement already satisfied: xxhash in /usr/local/lib/python3.11/dist-packages (from datasets) (3.5.0)\n",
            "Requirement already satisfied: multiprocess in /usr/local/lib/python3.11/dist-packages (from datasets) (0.70.15)\n",
            "Requirement already satisfied: fsspec>=2021.11.1 in /usr/local/lib/python3.11/dist-packages (from fsspec[http]>=2021.11.1->datasets) (2025.3.2)\n",
            "Requirement already satisfied: aiohttp in /usr/local/lib/python3.11/dist-packages (from datasets) (3.11.15)\n",
            "Requirement already satisfied: huggingface-hub<1.0.0,>=0.14.0 in /usr/local/lib/python3.11/dist-packages (from datasets) (0.32.4)\n",
            "Requirement already satisfied: packaging in /usr/local/lib/python3.11/dist-packages (from datasets) (24.2)\n",
            "Requirement already satisfied: pyyaml>=5.1 in /usr/local/lib/python3.11/dist-packages (from datasets) (6.0.2)\n",
            "Requirement already satisfied: aiohappyeyeballs>=2.3.0 in /usr/local/lib/python3.11/dist-packages (from aiohttp->datasets) (2.6.1)\n",
            "Requirement already satisfied: aiosignal>=1.1.2 in /usr/local/lib/python3.11/dist-packages (from aiohttp->datasets) (1.3.2)\n",
            "Requirement already satisfied: attrs>=17.3.0 in /usr/local/lib/python3.11/dist-packages (from aiohttp->datasets) (25.3.0)\n",
            "Requirement already satisfied: frozenlist>=1.1.1 in /usr/local/lib/python3.11/dist-packages (from aiohttp->datasets) (1.6.0)\n",
            "Requirement already satisfied: multidict<7.0,>=4.5 in /usr/local/lib/python3.11/dist-packages (from aiohttp->datasets) (6.4.4)\n",
            "Requirement already satisfied: propcache>=0.2.0 in /usr/local/lib/python3.11/dist-packages (from aiohttp->datasets) (0.3.1)\n",
            "Requirement already satisfied: yarl<2.0,>=1.17.0 in /usr/local/lib/python3.11/dist-packages (from aiohttp->datasets) (1.20.0)\n",
            "Requirement already satisfied: filelock in /usr/local/lib/python3.11/dist-packages (from huggingface-hub<1.0.0,>=0.14.0->datasets) (3.18.0)\n",
            "Requirement already satisfied: typing-extensions>=3.7.4.3 in /usr/local/lib/python3.11/dist-packages (from huggingface-hub<1.0.0,>=0.14.0->datasets) (4.14.0)\n",
            "Requirement already satisfied: hf-xet<2.0.0,>=1.1.2 in /usr/local/lib/python3.11/dist-packages (from huggingface-hub<1.0.0,>=0.14.0->datasets) (1.1.2)\n",
            "Requirement already satisfied: charset-normalizer<4,>=2 in /usr/local/lib/python3.11/dist-packages (from requests>=2.19.0->datasets) (3.4.2)\n",
            "Requirement already satisfied: idna<4,>=2.5 in /usr/local/lib/python3.11/dist-packages (from requests>=2.19.0->datasets) (3.10)\n",
            "Requirement already satisfied: urllib3<3,>=1.21.1 in /usr/local/lib/python3.11/dist-packages (from requests>=2.19.0->datasets) (2.4.0)\n",
            "Requirement already satisfied: certifi>=2017.4.17 in /usr/local/lib/python3.11/dist-packages (from requests>=2.19.0->datasets) (2025.4.26)\n",
            "Requirement already satisfied: python-dateutil>=2.8.2 in /usr/local/lib/python3.11/dist-packages (from pandas->datasets) (2.9.0.post0)\n",
            "Requirement already satisfied: pytz>=2020.1 in /usr/local/lib/python3.11/dist-packages (from pandas->datasets) (2025.2)\n",
            "Requirement already satisfied: tzdata>=2022.7 in /usr/local/lib/python3.11/dist-packages (from pandas->datasets) (2025.2)\n",
            "Requirement already satisfied: six>=1.5 in /usr/local/lib/python3.11/dist-packages (from python-dateutil>=2.8.2->pandas->datasets) (1.17.0)\n"
          ]
        }
      ],
      "source": [
        "%pip install optuna\n",
        "%pip install grpcio==1.70.0\n",
        "%pip install datasets"
      ]
    },
    {
      "cell_type": "code",
      "execution_count": null,
      "metadata": {
        "id": "MSP_vZu2Fijx"
      },
      "outputs": [],
      "source": [
        "# %pip install datasets\n",
        "# %pip install optuna\n",
        "# %pip install grpcio==1.70.0\n",
        "from sklearn.decomposition import PCA\n",
        "import matplotlib.pyplot as plt\n",
        "import os\n",
        "import numpy as np\n",
        "import pandas as pd\n",
        "from tqdm import tqdm\n",
        "import torch.nn as nn\n",
        "import os\n",
        "import json\n",
        "import torch.nn.functional as F\n",
        "from pathlib import Path\n",
        "from shutil import copyfile\n",
        "from typing import List, Dict, Union, Callable, Optional\n",
        "from copy import deepcopy\n",
        "import torch\n",
        "import numpy as np\n",
        "from scipy.spatial.transform import Rotation as R\n",
        "\n",
        "import matplotlib as plt\n",
        "\n",
        "import numpy as np\n",
        "\n",
        "import os\n",
        "\n",
        "import pdb\n",
        "from torch.nn import BCELoss\n",
        "from torch.utils.data import TensorDataset, DataLoader, random_split\n",
        "from sklearn.metrics import accuracy_score, precision_score, recall_score, confusion_matrix, roc_auc_score\n",
        "import matplotlib.pyplot as plt\n",
        "import seaborn as sns\n",
        "import optuna\n",
        "from sklearn.metrics import confusion_matrix\n",
        "from sklearn.model_selection import KFold"
      ]
    },
    {
      "cell_type": "code",
      "execution_count": null,
      "metadata": {
        "id": "_rnyARbwFijz"
      },
      "outputs": [],
      "source": [
        "num_objects = 3\n",
        "x_size = 40\n",
        "y_size = 30\n",
        "processing = True"
      ]
    },
    {
      "cell_type": "markdown",
      "metadata": {
        "id": "-8xFGjFsFij0"
      },
      "source": [
        "# Load Data"
      ]
    },
    {
      "cell_type": "code",
      "execution_count": null,
      "metadata": {
        "id": "LnY2jv9rFij0"
      },
      "outputs": [],
      "source": [
        "torch.cuda.empty_cache()"
      ]
    },
    {
      "cell_type": "code",
      "execution_count": null,
      "metadata": {
        "id": "xEzXBVyZFTRe",
        "colab": {
          "base_uri": "https://localhost:8080/"
        },
        "outputId": "3d72b1d2-0ef9-465a-a849-04a540d3da3a"
      },
      "outputs": [
        {
          "output_type": "stream",
          "name": "stderr",
          "text": [
            "100%|██████████| 820/820 [01:09<00:00, 11.79it/s]\n"
          ]
        }
      ],
      "source": [
        "import torch\n",
        "import torch.nn as nn\n",
        "import torch.optim as optim\n",
        "from torch.utils.data import DataLoader, Dataset, random_split\n",
        "import numpy as np\n",
        "from tqdm import tqdm # Assuming you have tqdm installed for the progress bar\n",
        "import torch.nn.functional as F\n",
        "\n",
        "\n",
        "# --- Your Dataset Source Code Integration ---\n",
        "# Assume these are defined earlier or imported from a utility file\n",
        "# x_size and y_size are needed for SimpleClassifier and processed_train\n",
        "# Let's infer them from your data if possible, or you need to define them.\n",
        "# Based on your previous description of (4, 40, 30), it seems x_size=40, y_size=30.\n",
        "x_size = 40\n",
        "y_size = 30\n",
        "num_channels = 4 # This will change after your processing\n",
        "num_objects = 1 # Assuming this is derived from your labels_data or defined elsewhere\n",
        "\n",
        "# Dummy processing flag - in your actual script, this would be determined by context\n",
        "processing = True\n",
        "\n",
        "if processing is True:\n",
        "    class myDataset(Dataset):\n",
        "        \"\"\"\n",
        "        Dataset class for NuScenes tensor files.\n",
        "\n",
        "        Args:\n",
        "            training_data: Tensor of shape [num_samples, channels, height, width]\n",
        "            labels_data: Tensor of labels corresponding to training data\n",
        "        \"\"\"\n",
        "        def __init__(self, training_data, labels_data):\n",
        "            self.training_data = training_data\n",
        "            self.labels_data = labels_data\n",
        "\n",
        "            # Verify shapes match\n",
        "            assert len(training_data) == len(labels_data), \"Training data and labels must have same number of samples\"\n",
        "\n",
        "        def __len__(self):\n",
        "            return len(self.training_data)\n",
        "\n",
        "        def __getitem__(self, idx):\n",
        "            # Detach tensors and clone to ensure no gradient history and independent data\n",
        "            input_tensor = self.training_data[idx].detach().clone()\n",
        "            label_tensor = self.labels_data[idx].detach().clone()\n",
        "            return input_tensor, label_tensor\n",
        "\n",
        "    train_path = fr'/content/training_batch_3_meter_grid.pt'\n",
        "    labels_path = fr'/content/label_batch_3_meter_grid.pt'\n",
        "\n",
        "    train_raw = torch.load(train_path, map_location=torch.device('cpu'))\n",
        "    labels_raw = torch.load(labels_path, map_location=torch.device('cpu')) # Renamed to avoid conflict\n",
        "\n",
        "    def calc_prior_probs(train, labels, pos=True):\n",
        "        obj_cases = []\n",
        "        # Ensure lidar_tensor is taken from the correct channel if train has more than 1\n",
        "        # Based on your predict_lidar_probability, it seems train[:, 0, :, :] is the lidar channel\n",
        "        lidar_tensor = train[:, 0, :, :].numpy()\n",
        "        num_objects = labels.size()[1] # Assuming labels are (num_samples, num_objects, H, W)\n",
        "        for i in range(num_objects):\n",
        "            d = {}\n",
        "            obj_label = labels[:, i, :, :].numpy()\n",
        "            if pos is True:\n",
        "                object_present_mask = (obj_label > 0.5)\n",
        "            else:\n",
        "                object_present_mask = (obj_label < 0.5)\n",
        "            lidar_values_where_object = lidar_tensor[object_present_mask]\n",
        "            lidar_values_where_object = np.round(lidar_values_where_object * 10) / 10\n",
        "            unique_values, counts = np.unique(lidar_values_where_object, return_counts=True)\n",
        "            obj_cases.append([unique_values, counts])\n",
        "        return obj_cases\n",
        "\n",
        "    class SimpleClassifier(nn.Module):\n",
        "        def __init__(self, input_size, hidden_size, output_size):\n",
        "            super(SimpleClassifier, self).__init__()\n",
        "            self.fc1 = nn.Linear(input_size, hidden_size)\n",
        "            self.relu = nn.ReLU()\n",
        "            self.fc2 = nn.Linear(hidden_size, output_size)\n",
        "            self.sigmoid = nn.Sigmoid()\n",
        "        def forward(self, x):\n",
        "            x_size_local, y_size_local = x.shape # Capture original 2D shape\n",
        "            x = x.flatten() # Flatten the input\n",
        "            x = self.fc1(x)\n",
        "            x = self.relu(x)\n",
        "            x = self.fc2(x)\n",
        "            x = self.sigmoid(x)\n",
        "            x = x.view(x_size_local, y_size_local) # Reshape back to 2D\n",
        "            return x\n",
        "\n",
        "    # Assuming x_size and y_size are correctly defined for your data\n",
        "    prob_lidar_model = SimpleClassifier(input_size=x_size * y_size, hidden_size=x_size * y_size * 64, output_size=x_size * y_size)\n",
        "    state_dict = torch.load(fr'/content/simple_classifier_state_dict.pth', map_location=torch.device('cpu'))\n",
        "    prob_lidar_model.load_state_dict(state_dict)\n",
        "    prob_lidar_model.eval()  # Set to evaluation mode\n",
        "\n",
        "    def predict_lidar_ptobability(tensor_data):\n",
        "        \"\"\"Replaces intensity values in lidar_data with likelihoods from cases_dict.\n",
        "\n",
        "        Args:\n",
        "        lidar_data: A tensor representing lidar data.\n",
        "        cases_dict: A dictionary mapping discretized intensity values to likelihoods.\n",
        "\n",
        "        Returns:\n",
        "        A tensor with intensity values replaced by likelihoods.\n",
        "        \"\"\"\n",
        "        lidar_data = tensor_data[0, :, :] # Assumes lidar is the first channel\n",
        "\n",
        "        new_lidar_data = lidar_data.clone()\n",
        "        lidar_data_prob = prob_lidar_model(new_lidar_data)\n",
        "        # lidar_data_prob = lidar_data_prob # This line seems redundant\n",
        "\n",
        "        return lidar_data_prob.unsqueeze(0) # Add channel dimension back\n",
        "\n",
        "    def process_tensor(tensor):\n",
        "        \"\"\"\n",
        "        Processes a tensor based on the provided criteria.\n",
        "\n",
        "        Args:\n",
        "            tensor: The input tensor.\n",
        "\n",
        "        Returns:\n",
        "            A list of tensors.\n",
        "        \"\"\"\n",
        "        optical_tensor = tensor[1:4, :, :] / 1000 # Assuming channels 1,2,3 are optical\n",
        "        return optical_tensor\n",
        "\n",
        "    # Dynamically determine the number of channels after processing\n",
        "    # lidar_prob_map will be 1 channel, optical_tensors will be 3 channels\n",
        "    # So, num_channels_after_processing will be 1 + 3 = 4\n",
        "    num_channels_after_processing = 4\n",
        "    # The output shape will be (num_samples, num_channels_after_processing, x_size, y_size)\n",
        "\n",
        "    # Initialize processed_train with the correct inferred size\n",
        "    processed_train = torch.empty(0, num_channels_after_processing, x_size, y_size)\n",
        "\n",
        "    # Use train_raw and labels_raw as the source for processing\n",
        "    for i in tqdm(range(train_raw.size()[0])):\n",
        "        tensor_to_process = train_raw[i]\n",
        "        optical_tensors = process_tensor(tensor_to_process)\n",
        "        lidar_prob_map = predict_lidar_ptobability(tensor_to_process)\n",
        "        concat_lidar_opt = torch.cat([lidar_prob_map, optical_tensors], dim=0)\n",
        "        processed_train = torch.cat((processed_train, concat_lidar_opt.unsqueeze(0)), dim=0)\n",
        "\n",
        "    training_set = myDataset(processed_train, labels_raw) # Use labels_raw here\n",
        "\n",
        "    total_size = len(processed_train)\n",
        "    train_split_ratio = 0.85\n",
        "    train_size = int(train_split_ratio * total_size)\n",
        "    test_size = total_size - train_size\n",
        "\n",
        "    generator = torch.Generator().manual_seed(42)\n",
        "    torch.manual_seed(42)\n",
        "\n",
        "    train_dataset, test_dataset = random_split(training_set, [train_size, test_size], generator=generator)"
      ]
    },
    {
      "cell_type": "code",
      "execution_count": null,
      "metadata": {
        "id": "Re5Z-5QiFrzf"
      },
      "outputs": [],
      "source": [
        "import torch\n",
        "import torch.nn as nn\n",
        "import torch.nn.functional as F\n",
        "\n",
        "class WeightedBCELoss(nn.BCELoss):\n",
        "    \"\"\"\n",
        "    Weighted Binary Cross Entropy Loss that applies higher weights to positive examples.\n",
        "    Inherits from PyTorch's BCELoss for compatibility.\n",
        "\n",
        "    Args:\n",
        "        pos_weight: Weight multiplier for positive examples (default: 10.0)\n",
        "        reduction: Specifies the reduction to apply to the output ('none', 'mean', 'sum')\n",
        "    \"\"\"\n",
        "    def __init__(self, pos_weight=10.0, reduction='mean'):\n",
        "        # BCELoss constructor takes (weight, size_average, reduce, reduction)\n",
        "        # We handle the 'pos_weight' manually in forward, so no need to pass it here directly.\n",
        "        super(WeightedBCELoss, self).__init__(reduction=reduction)\n",
        "\n",
        "        if not isinstance(pos_weight, (int, float)) or pos_weight <= 0:\n",
        "            raise ValueError(\"pos_weight must be a positive number.\")\n",
        "        self.pos_weight = float(pos_weight) # Ensure it's a float for calculations\n",
        "        self.reduction = reduction\n",
        "\n",
        "    def forward(self, input: torch.Tensor, target: torch.Tensor) -> torch.Tensor:\n",
        "        \"\"\"\n",
        "        Forward pass for weighted BCE loss.\n",
        "\n",
        "        Args:\n",
        "            input: Predicted probabilities (B, ...), must be in [0, 1] range.\n",
        "            target: Ground truth binary values (B, ...), must be 0 or 1.\n",
        "\n",
        "        Returns:\n",
        "            Weighted BCE loss.\n",
        "        \"\"\"\n",
        "        # --- Robustness Checks for Inputs ---\n",
        "        if not torch.is_floating_point(input):\n",
        "            raise TypeError(f\"Input tensor must be of floating point type. Got: {input.dtype}\")\n",
        "        if not torch.is_floating_point(target):\n",
        "            raise TypeError(f\"Target tensor must be of floating point type. Got: {target.dtype}\")\n",
        "\n",
        "        if input.shape != target.shape:\n",
        "            raise ValueError(f\"Input and target tensors must have the same shape. Got input: {input.shape}, target: {target.shape}\")\n",
        "\n",
        "        # Check for NaN/Inf in inputs before passing to F.binary_cross_entropy\n",
        "        if torch.isnan(input).any():\n",
        "            raise ValueError(\"Input tensor contains NaN values. Please check your model outputs.\")\n",
        "        if torch.isinf(input).any():\n",
        "            raise ValueError(\"Input tensor contains Inf values. Please check your model outputs (e.g., exploding gradients).\")\n",
        "        if torch.isnan(target).any():\n",
        "            raise ValueError(\"Target tensor contains NaN values. Please check your data loading.\")\n",
        "        if torch.isinf(target).any():\n",
        "            raise ValueError(\"Target tensor contains Inf values. Please check your data loading.\")\n",
        "\n",
        "        # Check if input probabilities are within [0, 1]\n",
        "        if input.min() < 0.0 or input.max() > 1.0:\n",
        "            raise ValueError(\n",
        "                f\"Input probabilities must be in the range [0, 1]. \"\n",
        "                f\"Found min: {input.min().item()}, max: {input.max().item()}.\"\n",
        "                f\"Ensure your model's last layer is Sigmoid if using BCELoss, or use BCEWithLogitsLoss if outputting logits.\"\n",
        "            )\n",
        "\n",
        "        # Check if target values are strictly 0 or 1\n",
        "        if not torch.all((target == 0.0) | (target == 1.0)):\n",
        "            # This identifies the problematic values for easier debugging\n",
        "            problematic_values = target[~((target == 0.0) | (target == 1.0))]\n",
        "            raise ValueError(\n",
        "                f\"Target tensor must contain only 0.0 or 1.0 values for binary classification. \"\n",
        "                f\"Found problematic values: {problematic_values.unique().tolist()}.\"\n",
        "            )\n",
        "        # --- End Robustness Checks ---\n",
        "\n",
        "        # Create weight tensor where positive examples get higher weight\n",
        "        # Ensure 'weights' tensor is on the same device as 'target'\n",
        "        weights = torch.ones_like(target, device=target.device, dtype=target.dtype)\n",
        "        weights[target == 1.0] = self.pos_weight\n",
        "\n",
        "        # Calculate BCE loss element-wise (without reduction)\n",
        "        # F.binary_cross_entropy requires float inputs\n",
        "        bce = F.binary_cross_entropy(input, target, reduction='none')\n",
        "\n",
        "        # Apply custom weights to the loss\n",
        "        weighted_bce = bce * weights\n",
        "\n",
        "        # Apply reduction as specified\n",
        "        if self.reduction == 'mean':\n",
        "            return weighted_bce.mean()\n",
        "        elif self.reduction == 'sum':\n",
        "            return weighted_bce.sum()\n",
        "        else:  # 'none'\n",
        "            return weighted_bce"
      ]
    },
    {
      "cell_type": "code",
      "execution_count": null,
      "metadata": {
        "id": "fLZIFHkGFij1",
        "colab": {
          "base_uri": "https://localhost:8080/"
        },
        "outputId": "630c4cc6-7dd6-4102-e669-074c097bba06"
      },
      "outputs": [
        {
          "output_type": "stream",
          "name": "stdout",
          "text": [
            "Final validation:\n",
            "Processed data min: 0.0000\n",
            "Processed data max: 1.0000\n",
            "✓ All values are within [0,1] range\n"
          ]
        }
      ],
      "source": [
        "# After your processing loop, add these lines:\n",
        "print(\"Final validation:\")\n",
        "print(f\"Processed data min: {processed_train.min():.4f}\")\n",
        "print(f\"Processed data max: {processed_train.max():.4f}\")\n",
        "\n",
        "if processed_train.min() < 0 or processed_train.max() > 1:\n",
        "    print(\"ERROR: Some values are outside [0,1] range!\")\n",
        "else:\n",
        "    print(\"✓ All values are within [0,1] range\")"
      ]
    },
    {
      "cell_type": "code",
      "execution_count": null,
      "metadata": {
        "id": "OVx5VUHFFij3"
      },
      "outputs": [],
      "source": [
        "# train_dataset = torch.load(\"/kaggle/working/test_dataset.pt\")\n",
        "# test_dataset = torch.load(\"/kaggle/working/test_dataset.pt\")"
      ]
    },
    {
      "cell_type": "code",
      "execution_count": null,
      "metadata": {
        "id": "oUF_KI43Fij3"
      },
      "outputs": [],
      "source": [
        "def plot_loss(train_loss, test_loss):\n",
        "    epochs = range(1, len(train_loss) + 1)\n",
        "\n",
        "    plt.figure(figsize=(10, 6))\n",
        "    plt.plot(epochs, train_loss, 'bo-', label='Train loss')\n",
        "    plt.plot(epochs, test_loss, 'ro-', label='Test loss')\n",
        "    plt.title('Training and Testing Loss over Epochs')\n",
        "    plt.xlabel('Epochs')\n",
        "    plt.ylabel('Loss')\n",
        "    plt.legend()\n",
        "    plt.grid(True)\n",
        "    plt.show()"
      ]
    },
    {
      "cell_type": "code",
      "execution_count": null,
      "metadata": {
        "id": "HyC0FO03Fij4"
      },
      "outputs": [],
      "source": [
        "class WeightedBCELoss(nn.BCELoss):\n",
        "    \"\"\"\n",
        "    Weighted Binary Cross Entropy Loss that applies higher weights to positive examples.\n",
        "    Inherits from PyTorch's BCELoss for compatibility.\n",
        "\n",
        "    Args:\n",
        "        pos_weight: Weight multiplier for positive examples (default: 10.0)\n",
        "        reduction: Specifies the reduction to apply to the output ('none', 'mean', 'sum')\n",
        "        weight: A manual rescaling weight given to the loss of each batch element\n",
        "    \"\"\"\n",
        "    def __init__(self, pos_weight=10.0, weight=None, size_average=None, reduce=None, reduction='mean'):\n",
        "        super(WeightedBCELoss, self).__init__(weight, size_average, reduce, reduction)\n",
        "        self.pos_weight = pos_weight\n",
        "        self.reduction = reduction\n",
        "\n",
        "    def forward(self, input, target):\n",
        "        \"\"\"\n",
        "        Forward pass for weighted BCE loss\n",
        "\n",
        "        Args:\n",
        "            input: Predicted probabilities (B, ...)\n",
        "            target: Ground truth binary values (B, ...)\n",
        "\n",
        "        Returns:\n",
        "            Weighted BCE loss\n",
        "        \"\"\"\n",
        "        # Create weight tensor where positive examples get higher weight\n",
        "        weights = torch.ones_like(target)\n",
        "        weights[target == 1] = self.pos_weight\n",
        "\n",
        "        # Calculate BCE loss element-wise (without reduction)\n",
        "        bce = F.binary_cross_entropy(input, target, reduction='none')\n",
        "\n",
        "        # Apply weights to the loss\n",
        "        weighted_bce = bce * weights\n",
        "\n",
        "        # Apply reduction\n",
        "        if self.reduction == 'mean':\n",
        "            return weighted_bce.mean()\n",
        "        elif self.reduction == 'sum':\n",
        "            return weighted_bce.sum()\n",
        "        else:  # 'none'\n",
        "            return weighted_bce"
      ]
    },
    {
      "cell_type": "code",
      "execution_count": null,
      "metadata": {
        "id": "kqpYWKjmFij3"
      },
      "outputs": [],
      "source": [
        "import torch\n",
        "import torch.nn as nn\n",
        "import torch.nn.functional as F\n",
        "\n",
        "# הגדרת פרמטרים\n",
        "# הערה: יש לוודא שמשתנים אלו (x_size, y_size, num_objects) מוגדרים בקוד שלך\n",
        "# לפני יצירת מופע של המחלקה SimpleCNN\n",
        "# לדוגמה:\n",
        "x_size = 40\n",
        "y_size = 30\n",
        "num_objects = 3 # אם num_objects = 3, אז input_channels יהיה 4\n",
        "\n",
        "class ResidualCNN(nn.Module):\n",
        "    \"\"\"Alternative architecture with residual connections for deeper networks\"\"\"\n",
        "\n",
        "    def __init__(self, x_size=40, y_size=30, num_objects=3):\n",
        "        super(ResidualCNN, self).__init__()\n",
        "\n",
        "        input_channels = num_objects + 1\n",
        "        output_channels = num_objects\n",
        "\n",
        "        # Initial convolution\n",
        "        self.initial_conv = nn.Conv2d(input_channels, 64, kernel_size=7, padding=3)\n",
        "        self.initial_bn = nn.BatchNorm2d(64)\n",
        "\n",
        "        # Residual blocks\n",
        "        self.res_block1 = self._make_residual_block(64, 64)\n",
        "        self.res_block2 = self._make_residual_block(64, 128, stride=2)\n",
        "        self.res_block3 = self._make_residual_block(128, 256, stride=2)\n",
        "\n",
        "        # Upsampling layers\n",
        "        self.upsample1 = nn.ConvTranspose2d(256, 128, kernel_size=4, stride=2, padding=1)\n",
        "        self.upsample2 = nn.ConvTranspose2d(128, 64, kernel_size=4, stride=2, padding=1)\n",
        "\n",
        "        # Final layers\n",
        "        self.final_layers = nn.Sequential(\n",
        "            nn.Conv2d(64, 32, kernel_size=3, padding=1),\n",
        "            nn.BatchNorm2d(32),\n",
        "            nn.ReLU(inplace=True),\n",
        "            nn.Conv2d(32, output_channels, kernel_size=1),\n",
        "            nn.Sigmoid()\n",
        "        )\n",
        "\n",
        "        self.dropout = nn.Dropout2d(0.1)\n",
        "\n",
        "    def _make_residual_block(self, in_channels, out_channels, stride=1):\n",
        "        layers = []\n",
        "\n",
        "        # First conv block\n",
        "        layers.append(nn.Conv2d(in_channels, out_channels, kernel_size=3, stride=stride, padding=1))\n",
        "        layers.append(nn.BatchNorm2d(out_channels))\n",
        "        layers.append(nn.ReLU(inplace=True))\n",
        "\n",
        "        # Second conv block\n",
        "        layers.append(nn.Conv2d(out_channels, out_channels, kernel_size=3, padding=1))\n",
        "        layers.append(nn.BatchNorm2d(out_channels))\n",
        "\n",
        "        block = nn.Sequential(*layers)\n",
        "\n",
        "        # Skip connection handling\n",
        "        if stride != 1 or in_channels != out_channels:\n",
        "            self.shortcut = nn.Sequential(\n",
        "                nn.Conv2d(in_channels, out_channels, kernel_size=1, stride=stride),\n",
        "                nn.BatchNorm2d(out_channels)\n",
        "            )\n",
        "        else:\n",
        "            self.shortcut = nn.Identity()\n",
        "\n",
        "        return block\n",
        "\n",
        "    def forward(self, x):\n",
        "        # Initial processing\n",
        "        out = F.relu(self.initial_bn(self.initial_conv(x)))\n",
        "\n",
        "        # Residual blocks with skip connections\n",
        "        identity = out\n",
        "        out = self.res_block1(out)\n",
        "        out += identity  # Skip connection\n",
        "        out = F.relu(out)\n",
        "\n",
        "        out = self.res_block2(out)\n",
        "        out = self.res_block3(out)\n",
        "        out = self.dropout(out)\n",
        "\n",
        "        # Upsampling\n",
        "        out = F.relu(self.upsample1(out))\n",
        "        out = F.relu(self.upsample2(out))\n",
        "\n",
        "        # Ensure correct output size\n",
        "        out = F.interpolate(out, size=x.shape[2:], mode='bilinear', align_corners=False)\n",
        "\n",
        "        # Final output\n",
        "        out = self.final_layers(out)\n",
        "\n",
        "        return out\n"
      ]
    },
    {
      "cell_type": "code",
      "execution_count": null,
      "metadata": {
        "id": "7KLplprWFij4"
      },
      "outputs": [],
      "source": [
        "# prompt: write a training code for the SimpleCNN above\n",
        "\n",
        "def train_model(params, model):\n",
        "    \"\"\"\n",
        "    Trains the SimpleCNN model and evaluates it on the test set.\n",
        "\n",
        "    Args:\n",
        "        model: The SimpleCNN model instance.\n",
        "        train_loader: DataLoader for the training data.\n",
        "        test_loader: DataLoader for the testing data.\n",
        "        criterion: The loss function.\n",
        "        optimizer: The optimizer.\n",
        "        num_epochs: Number of training epochs.\n",
        "\n",
        "    Returns:\n",
        "        Tuple containing lists of train loss and test loss per epoch.\n",
        "    \"\"\"\n",
        "\n",
        "    num_epochs = params['num_epochs']\n",
        "    batch_size = params['batch_size']\n",
        "    learning_rate = params['learning_rate']\n",
        "    pos_weight = params[\"pos_weight\"]\n",
        "    device = torch.device(\"cuda\" if torch.cuda.is_available() else \"cpu\")\n",
        "    model.to(device)\n",
        "\n",
        "    train_loss_history = []\n",
        "    test_loss_history = []\n",
        "\n",
        "    # Create DataLoaders\n",
        "    train_loader = DataLoader(train_dataset, batch_size=batch_size, shuffle=True, drop_last=True)\n",
        "    test_loader = DataLoader(test_dataset, batch_size=batch_size, shuffle=False, drop_last=True)\n",
        "\n",
        "    criterion = WeightedBCELoss(pos_weight=pos_weight)\n",
        "    optimizer = optim.Adam(model.parameters(), lr=learning_rate)\n",
        "    for epoch in range(num_epochs):\n",
        "        model.train()  # Set model to training mode\n",
        "        running_loss = 0.0\n",
        "        for inputs, labels in tqdm(train_loader, desc=f\"Epoch {epoch+1}/{num_epochs} [Train]\"):\n",
        "            inputs, labels = inputs.to(device), labels.to(device)\n",
        "\n",
        "            # Zero the parameter gradients\n",
        "            optimizer.zero_grad()\n",
        "\n",
        "            # Forward pass\n",
        "            outputs = model(inputs)\n",
        "            # Apply sigmoid to outputs to get probabilities for BCELoss\n",
        "            outputs = torch.sigmoid(outputs)\n",
        "\n",
        "            # Calculate loss\n",
        "            # Ensure labels are float as BCELoss expects float type targets\n",
        "            loss = criterion(outputs, labels)\n",
        "\n",
        "            # Backward pass and optimize\n",
        "            loss.backward()\n",
        "            optimizer.step()\n",
        "\n",
        "            running_loss += loss.item() * inputs.size(0)\n",
        "\n",
        "        epoch_train_loss = running_loss / len(train_loader.dataset)\n",
        "        train_loss_history.append(epoch_train_loss)\n",
        "\n",
        "        # Evaluate on the test set\n",
        "        model.eval()  # Set model to evaluation model\n",
        "        true_labels_lst = []\n",
        "        test_preds_lst = []\n",
        "        test_running_loss = 0.0\n",
        "        with torch.no_grad():\n",
        "            for inputs, labels in tqdm(test_loader, desc=f\"Epoch {epoch+1}/{num_epochs} [Test] \"):\n",
        "                inputs, labels = inputs.to(device), labels.to(device)\n",
        "                outputs = model(inputs)\n",
        "                test_loss_epoch = criterion(outputs, labels.float())\n",
        "                test_running_loss += test_loss_epoch.item() * inputs.size(0)\n",
        "                if epoch == num_epochs - 1:\n",
        "                    true_labels_lst.extend(labels.cpu().numpy().flatten())\n",
        "                    test_preds = (outputs >= 0.5).float()\n",
        "                    test_preds_lst.extend(test_preds.cpu().numpy().flatten())\n",
        "\n",
        "        epoch_test_loss = test_running_loss / len(test_loader.dataset)\n",
        "        test_loss_history.append(epoch_test_loss)\n",
        "\n",
        "        print(f\"Epoch [{epoch+1}/{num_epochs}], Train Loss: {epoch_train_loss:.4f}, Test Loss: {epoch_test_loss:.4f}\")\n",
        "    display(\"Accuracy: \", accuracy_score(true_labels_lst, test_preds_lst))\n",
        "    display(\"Recall Score: \", recall_score(true_labels_lst, test_preds_lst))\n",
        "    display(\"Precision Score: \", precision_score(true_labels_lst, test_preds_lst))\n",
        "    display(\"AUC Score: \", roc_auc_score(true_labels_lst, test_preds_lst))\n",
        "    display(\"Loss: \",test_loss_history[-1])\n",
        "    print(\"Finished Training\")\n",
        "    plot_loss(train_loss_history, test_loss_history)\n",
        "    return test_loss_history[-1]"
      ]
    },
    {
      "cell_type": "code",
      "execution_count": null,
      "metadata": {
        "id": "MHeX6C_6uAEJ",
        "colab": {
          "base_uri": "https://localhost:8080/",
          "height": 1000
        },
        "outputId": "02c47ba7-21d4-46dc-bc3e-a2a57d4fc413"
      },
      "outputs": [
        {
          "output_type": "stream",
          "name": "stderr",
          "text": [
            "[I 2025-06-15 09:44:38,129] A new study created in memory with name: no-name-4ebaa1c3-474e-4d71-9013-06358dcc9137\n",
            "Epoch 1/10 [Train]: 100%|██████████| 43/43 [00:36<00:00,  1.18it/s]\n",
            "Epoch 1/10 [Test] : 100%|██████████| 7/7 [00:01<00:00,  4.65it/s]\n"
          ]
        },
        {
          "output_type": "stream",
          "name": "stdout",
          "text": [
            "Epoch [1/10], Train Loss: 1.0904, Test Loss: 0.7641\n"
          ]
        },
        {
          "output_type": "stream",
          "name": "stderr",
          "text": [
            "Epoch 2/10 [Train]: 100%|██████████| 43/43 [00:34<00:00,  1.25it/s]\n",
            "Epoch 2/10 [Test] : 100%|██████████| 7/7 [00:02<00:00,  2.93it/s]\n"
          ]
        },
        {
          "output_type": "stream",
          "name": "stdout",
          "text": [
            "Epoch [2/10], Train Loss: 1.0689, Test Loss: 0.6922\n"
          ]
        },
        {
          "output_type": "stream",
          "name": "stderr",
          "text": [
            "Epoch 3/10 [Train]: 100%|██████████| 43/43 [00:31<00:00,  1.37it/s]\n",
            "Epoch 3/10 [Test] : 100%|██████████| 7/7 [00:01<00:00,  4.83it/s]\n"
          ]
        },
        {
          "output_type": "stream",
          "name": "stdout",
          "text": [
            "Epoch [3/10], Train Loss: 1.0594, Test Loss: 0.6739\n"
          ]
        },
        {
          "output_type": "stream",
          "name": "stderr",
          "text": [
            "Epoch 4/10 [Train]: 100%|██████████| 43/43 [00:31<00:00,  1.37it/s]\n",
            "Epoch 4/10 [Test] : 100%|██████████| 7/7 [00:01<00:00,  4.87it/s]\n"
          ]
        },
        {
          "output_type": "stream",
          "name": "stdout",
          "text": [
            "Epoch [4/10], Train Loss: 1.0503, Test Loss: 0.6614\n"
          ]
        },
        {
          "output_type": "stream",
          "name": "stderr",
          "text": [
            "Epoch 5/10 [Train]: 100%|██████████| 43/43 [00:36<00:00,  1.17it/s]\n",
            "Epoch 5/10 [Test] : 100%|██████████| 7/7 [00:02<00:00,  3.47it/s]\n"
          ]
        },
        {
          "output_type": "stream",
          "name": "stdout",
          "text": [
            "Epoch [5/10], Train Loss: 1.0438, Test Loss: 0.6375\n"
          ]
        },
        {
          "output_type": "stream",
          "name": "stderr",
          "text": [
            "Epoch 6/10 [Train]: 100%|██████████| 43/43 [00:36<00:00,  1.18it/s]\n",
            "Epoch 6/10 [Test] : 100%|██████████| 7/7 [00:02<00:00,  2.65it/s]\n"
          ]
        },
        {
          "output_type": "stream",
          "name": "stdout",
          "text": [
            "Epoch [6/10], Train Loss: 1.0365, Test Loss: 0.6334\n"
          ]
        },
        {
          "output_type": "stream",
          "name": "stderr",
          "text": [
            "Epoch 7/10 [Train]: 100%|██████████| 43/43 [00:37<00:00,  1.16it/s]\n",
            "Epoch 7/10 [Test] : 100%|██████████| 7/7 [00:02<00:00,  2.85it/s]\n"
          ]
        },
        {
          "output_type": "stream",
          "name": "stdout",
          "text": [
            "Epoch [7/10], Train Loss: 1.0283, Test Loss: 0.6186\n"
          ]
        },
        {
          "output_type": "stream",
          "name": "stderr",
          "text": [
            "Epoch 8/10 [Train]: 100%|██████████| 43/43 [00:36<00:00,  1.17it/s]\n",
            "Epoch 8/10 [Test] : 100%|██████████| 7/7 [00:01<00:00,  3.84it/s]\n"
          ]
        },
        {
          "output_type": "stream",
          "name": "stdout",
          "text": [
            "Epoch [8/10], Train Loss: 1.0224, Test Loss: 0.6097\n"
          ]
        },
        {
          "output_type": "stream",
          "name": "stderr",
          "text": [
            "Epoch 9/10 [Train]: 100%|██████████| 43/43 [00:34<00:00,  1.26it/s]\n",
            "Epoch 9/10 [Test] : 100%|██████████| 7/7 [00:01<00:00,  4.84it/s]\n"
          ]
        },
        {
          "output_type": "stream",
          "name": "stdout",
          "text": [
            "Epoch [9/10], Train Loss: 1.0168, Test Loss: 0.6050\n"
          ]
        },
        {
          "output_type": "stream",
          "name": "stderr",
          "text": [
            "Epoch 10/10 [Train]: 100%|██████████| 43/43 [00:30<00:00,  1.39it/s]\n",
            "Epoch 10/10 [Test] : 100%|██████████| 7/7 [00:01<00:00,  3.75it/s]"
          ]
        },
        {
          "output_type": "stream",
          "name": "stdout",
          "text": [
            "Epoch [10/10], Train Loss: 1.0096, Test Loss: 0.6034\n"
          ]
        },
        {
          "output_type": "stream",
          "name": "stderr",
          "text": [
            "\n"
          ]
        },
        {
          "output_type": "display_data",
          "data": {
            "text/plain": [
              "'Accuracy: '"
            ],
            "application/vnd.google.colaboratory.intrinsic+json": {
              "type": "string"
            }
          },
          "metadata": {}
        },
        {
          "output_type": "display_data",
          "data": {
            "text/plain": [
              "0.9065674603174603"
            ]
          },
          "metadata": {}
        },
        {
          "output_type": "display_data",
          "data": {
            "text/plain": [
              "'Recall Score: '"
            ],
            "application/vnd.google.colaboratory.intrinsic+json": {
              "type": "string"
            }
          },
          "metadata": {}
        },
        {
          "output_type": "display_data",
          "data": {
            "text/plain": [
              "0.657283603096411"
            ]
          },
          "metadata": {}
        },
        {
          "output_type": "display_data",
          "data": {
            "text/plain": [
              "'Precision Score: '"
            ],
            "application/vnd.google.colaboratory.intrinsic+json": {
              "type": "string"
            }
          },
          "metadata": {}
        },
        {
          "output_type": "display_data",
          "data": {
            "text/plain": [
              "0.024502216742306987"
            ]
          },
          "metadata": {}
        },
        {
          "output_type": "display_data",
          "data": {
            "text/plain": [
              "'AUC Score: '"
            ],
            "application/vnd.google.colaboratory.intrinsic+json": {
              "type": "string"
            }
          },
          "metadata": {}
        },
        {
          "output_type": "display_data",
          "data": {
            "text/plain": [
              "np.float64(0.7823663615675197)"
            ]
          },
          "metadata": {}
        },
        {
          "output_type": "display_data",
          "data": {
            "text/plain": [
              "'Loss: '"
            ],
            "application/vnd.google.colaboratory.intrinsic+json": {
              "type": "string"
            }
          },
          "metadata": {}
        },
        {
          "output_type": "display_data",
          "data": {
            "text/plain": [
              "0.6034489530857986"
            ]
          },
          "metadata": {}
        },
        {
          "output_type": "stream",
          "name": "stdout",
          "text": [
            "Finished Training\n"
          ]
        },
        {
          "output_type": "display_data",
          "data": {
            "text/plain": [
              "<Figure size 1000x600 with 1 Axes>"
            ],
            "image/png": "[encoded data removed]"
          },
          "metadata": {}
        },
        {
          "output_type": "stream",
          "name": "stderr",
          "text": [
            "[I 2025-06-15 09:50:51,502] Trial 0 finished with value: 0.6034489530857986 and parameters: {'learning_rate': 5e-05, 'num_epochs': 10, 'batch_size': 16, 'pos_weight': 100}. Best is trial 0 with value: 0.6034489530857986.\n"
          ]
        },
        {
          "output_type": "stream",
          "name": "stdout",
          "text": [
            "Best hyperparameters: {'learning_rate': 5e-05, 'num_epochs': 10, 'batch_size': 16, 'pos_weight': 100}\n"
          ]
        }
      ],
      "source": [
        "def objective(trial):\n",
        "    avg_test_loss_lst = []\n",
        "    avg_train_loss_lst = []\n",
        "    learning_rate = trial.suggest_categorical('learning_rate',[1e-1,5e-2, 1e-2, 1e-3, 5e-3, 1e-4, 5e-4, 1e-5, 5e-5, 1e-6])\n",
        "    num_epochs = trial.suggest_int('num_epochs', 5, 12)\n",
        "    batch_size = trial.suggest_categorical('batch_size', [16])\n",
        "    pos_weight = trial.suggest_categorical('pos_weight', [10, 50, 100])\n",
        "    model = ResidualCNN()\n",
        "    test_loss = train_model(trial.params, model)\n",
        "    return test_loss\n",
        "study = optuna.create_study(direction='minimize')\n",
        "# study.enqueue_trial(params = {'learning_rate': 0.1, 'num_epochs': 15, 'batch_size': 16, 'num_layers_to_train': 10})\n",
        "study.optimize(objective, n_trials=1)\n",
        "\n",
        "best_trials = study.best_trials\n",
        "best_params = [param.params for param in best_trials][0]\n",
        "best_params = study.best_params\n",
        "print(f\"Best hyperparameters: {best_params}\")"
      ]
    },
    {
      "cell_type": "code",
      "source": [
        "# prompt: print the number of model parameters of ResidualCNN\n",
        "\n",
        "# Initialize the model\n",
        "model = ResidualCNN()\n",
        "\n",
        "# Count the number of parameters\n",
        "total_params = sum(p.numel() for p in model.parameters())\n",
        "trainable_params = sum(p.numel() for p in model.parameters() if p.requires_grad)\n",
        "\n",
        "print(f\"Total number of parameters: {total_params}\")\n",
        "print(f\"Number of trainable parameters: {trainable_params}\")\n"
      ],
      "metadata": {
        "id": "BhYJfOkt5P0U",
        "colab": {
          "base_uri": "https://localhost:8080/"
        },
        "outputId": "00035ff7-6db1-48d6-bf2c-d7a81d978a26"
      },
      "execution_count": null,
      "outputs": [
        {
          "output_type": "stream",
          "name": "stdout",
          "text": [
            "Total number of parameters: 1902787\n",
            "Number of trainable parameters: 1902787\n"
          ]
        }
      ]
    }
  ],
  "metadata": {
    "colab": {
      "provenance": []
    },
    "kaggle": {
      "accelerator": "gpu",
      "dataSources": [
        {
          "datasetId": 7075523,
          "sourceId": 12119033,
          "sourceType": "datasetVersion"
        }
      ],
      "dockerImageVersionId": 31041,
      "isGpuEnabled": true,
      "isInternetEnabled": true,
      "language": "python",
      "sourceType": "notebook"
    },
    "kernelspec": {
      "display_name": "Python 3 (ipykernel)",
      "language": "python",
      "name": "python3"
    },
    "language_info": {
      "codemirror_mode": {
        "name": "ipython",
        "version": 3
      },
      "file_extension": ".py",
      "mimetype": "text/x-python",
      "name": "python",
      "nbconvert_exporter": "python",
      "pygments_lexer": "ipython3",
      "version": "3.11.5"
    }
  },
  "nbformat": 4,
  "nbformat_minor": 0
}